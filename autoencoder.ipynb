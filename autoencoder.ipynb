{
 "cells": [
  {
   "cell_type": "code",
   "execution_count": null,
   "id": "6f0458df-1431-479f-8dd6-894f2efd94f4",
   "metadata": {
    "tags": []
   },
   "outputs": [],
   "source": [
    "import tensorflow as tf\n",
    "from matplotlib import pyplot as plt\n",
    "from train import Models\n",
    "\n",
    "data = tf.keras.datasets.mnist.load_data()\n",
    "a = Models(data=data)\n",
    "\n",
    "a.load()\n",
    "\n",
    "autoencoder_prediction = a.encoder.predict([a.x_test[0].reshape(-1, 28, 28, 1)])\n",
    "\n",
    "ae_out = a.autoencoder.predict([a.x_test[1].reshape(-1, 28, 28, 1)])\n",
    "e_out = a.encoder.predict([a.x_test[1].reshape(-1, 28, 28, 1)])\n",
    "d_out = a.decoder.predict([e_out])\n"
   ]
  },
  {
   "cell_type": "code",
   "execution_count": 6,
   "id": "2ad626eb-5098-4712-a400-19135b5bbf22",
   "metadata": {
    "tags": []
   },
   "outputs": [
    {
     "data": {
      "image/png": "[encoded data removed]",
      "text/plain": [
       "<Figure size 720x504 with 4 Axes>"
      ]
     },
     "metadata": {
      "needs_background": "light"
     },
     "output_type": "display_data"
    }
   ],
   "source": [
    "fig = plt.figure(figsize=(10, 7))\n",
    "\n",
    "rows = 2\n",
    "columns = 2\n",
    "\n",
    "fig.add_subplot(rows, columns, 1)\n",
    "plt.imshow(a.x_test[1], cmap=\"gray\")\n",
    "plt.axis(\"off\")\n",
    "plt.title(\"Original\")\n",
    "\n",
    "fig.add_subplot(rows, columns, 2)\n",
    "plt.imshow(e_out[0].reshape(8, 8), cmap=\"gray\")\n",
    "plt.axis(\"off\")\n",
    "plt.title(\"Encoded\")\n",
    "\n",
    "fig.add_subplot(rows, columns, 3)\n",
    "plt.imshow(d_out[0], cmap=\"gray\")\n",
    "plt.axis(\"off\")\n",
    "plt.title(\"Decoded\")\n",
    "\n",
    "fig.add_subplot(rows, columns, 4)\n",
    "plt.imshow(ae_out[0], cmap=\"gray\")\n",
    "plt.axis(\"off\")\n",
    "plt.title(\"AutoEncoded\")\n",
    "\n",
    "plt.show()"
   ]
  },
  {
   "cell_type": "code",
   "execution_count": null,
   "id": "5c07183f-1024-49de-8b5c-506318b94ea9",
   "metadata": {},
   "outputs": [],
   "source": []
  }
 ],
 "metadata": {
  "kernelspec": {
   "display_name": "Python 3 (ipykernel)",
   "language": "python",
   "name": "python3"
  },
  "language_info": {
   "codemirror_mode": {
    "name": "ipython",
    "version": 3
   },
   "file_extension": ".py",
   "mimetype": "text/x-python",
   "name": "python",
   "nbconvert_exporter": "python",
   "pygments_lexer": "ipython3",
   "version": "3.9.10"
  }
 },
 "nbformat": 4,
 "nbformat_minor": 5
}

{
 "cells": [
  {
   "cell_type": "code",
   "execution_count": 1,
   "id": "6f0458df-1431-479f-8dd6-894f2efd94f4",
   "metadata": {
    "tags": []
   },
   "outputs": [
    {
     "name": "stderr",
     "output_type": "stream",
     "text": [
      "2022-03-06 21:18:08.923162: W tensorflow/stream_executor/platform/default/dso_loader.cc:64] Could not load dynamic library 'libcudart.so.11.0'; dlerror: libcudart.so.11.0: cannot open shared object file: No such file or directory\n",
      "2022-03-06 21:18:08.923178: I tensorflow/stream_executor/cuda/cudart_stub.cc:29] Ignore above cudart dlerror if you do not have a GPU set up on your machine.\n",
      "2022-03-06 21:18:10.733305: W tensorflow/stream_executor/platform/default/dso_loader.cc:64] Could not load dynamic library 'libcuda.so.1'; dlerror: libcuda.so.1: cannot open shared object file: No such file or directory\n",
      "2022-03-06 21:18:10.733324: W tensorflow/stream_executor/cuda/cuda_driver.cc:269] failed call to cuInit: UNKNOWN ERROR (303)\n",
      "2022-03-06 21:18:10.733337: I tensorflow/stream_executor/cuda/cuda_diagnostics.cc:156] kernel driver does not appear to be running on this host (stantz): /proc/driver/nvidia/version does not exist\n",
      "2022-03-06 21:18:10.733486: I tensorflow/core/platform/cpu_feature_guard.cc:151] This TensorFlow binary is optimized with oneAPI Deep Neural Network Library (oneDNN) to use the following CPU instructions in performance-critical operations:  AVX2 FMA\n",
      "To enable them in other operations, rebuild TensorFlow with the appropriate compiler flags.\n"
     ]
    }
   ],
   "source": [
    "import tensorflow as tf\n",
    "from matplotlib import pyplot as plt\n",
    "from train import Models\n",
    "\n",
    "data = tf.keras.datasets.mnist.load_data()\n",
    "a = Models.load_or_train(data=data)"
   ]
  },
  {
   "cell_type": "code",
   "execution_count": 2,
   "id": "1c3618ef-28b3-4cf0-98f9-a824c893864f",
   "metadata": {},
   "outputs": [
    {
     "data": {
      "text/plain": [
       "<matplotlib.image.AxesImage at 0x7f01d9502dc0>"
      ]
     },
     "execution_count": 2,
     "metadata": {},
     "output_type": "execute_result"
    },
    {
     "data": {
      "image/png": "[encoded data removed]",
      "text/plain": [
       "<Figure size 432x288 with 1 Axes>"
      ]
     },
     "metadata": {
      "needs_background": "light"
     },
     "output_type": "display_data"
    }
   ],
   "source": [
    "sample = a.x_test[0]\n",
    "reshaped_sample = a.x_test[0].reshape(-1,28,28)\n",
    "plt.imshow(a.x_test[0], cmap=\"gray\")"
   ]
  },
  {
   "cell_type": "code",
   "execution_count": 3,
   "id": "d914460f-ccf1-43f7-8825-b2ab14d1f0c4",
   "metadata": {},
   "outputs": [],
   "source": [
    "autoencoder_prediction = a.encoder.predict(reshaped_sample)\n",
    "ae_out = a.autoencoder.predict(reshaped_sample)\n",
    "e_out = a.encoder.predict(reshaped_sample)\n",
    "d_out = a.decoder.predict(e_out)\n"
   ]
  },
  {
   "cell_type": "code",
   "execution_count": 4,
   "id": "2ad626eb-5098-4712-a400-19135b5bbf22",
   "metadata": {
    "tags": []
   },
   "outputs": [
    {
     "data": {
      "image/png": "[encoded data removed]",
      "text/plain": [
       "<Figure size 720x504 with 4 Axes>"
      ]
     },
     "metadata": {
      "needs_background": "light"
     },
     "output_type": "display_data"
    }
   ],
   "source": [
    "fig = plt.figure(figsize=(10, 7))\n",
    "\n",
    "rows = 1\n",
    "columns = 4\n",
    "\n",
    "fig.add_subplot(rows, columns, 1)\n",
    "plt.imshow(sample, cmap=\"gray\")\n",
    "plt.title(\"Original\")\n",
    "\n",
    "fig.add_subplot(rows, columns, 2)\n",
    "plt.imshow(e_out[0].reshape(8, 8), cmap=\"gray\")\n",
    "plt.title(\"Encoded\")\n",
    "\n",
    "fig.add_subplot(rows, columns, 3)\n",
    "plt.imshow(d_out[0], cmap=\"gray\")\n",
    "plt.title(\"Decoded\")\n",
    "\n",
    "fig.add_subplot(rows, columns, 4)\n",
    "plt.imshow(ae_out[0], cmap=\"gray\")\n",
    "plt.title(\"AutoEncoded\")\n",
    "\n",
    "plt.show()"
   ]
  },
  {
   "cell_type": "code",
   "execution_count": 23,
   "id": "5c07183f-1024-49de-8b5c-506318b94ea9",
   "metadata": {},
   "outputs": [
    {
     "data": {
      "text/plain": [
       "(10000, 28, 28)"
      ]
     },
     "execution_count": 23,
     "metadata": {},
     "output_type": "execute_result"
    }
   ],
   "source": [
    "a.x_test.shape"
   ]
  },
  {
   "cell_type": "code",
   "execution_count": 25,
   "id": "01949edd-fd8d-45e1-b596-28f92378a0e9",
   "metadata": {},
   "outputs": [
    {
     "data": {
      "text/plain": [
       "(10000,)"
      ]
     },
     "execution_count": 25,
     "metadata": {},
     "output_type": "execute_result"
    }
   ],
   "source": [
    "a.y_test.shape"
   ]
  }
 ],
 "metadata": {
  "kernelspec": {
   "display_name": "Python 3 (ipykernel)",
   "language": "python",
   "name": "python3"
  },
  "language_info": {
   "codemirror_mode": {
    "name": "ipython",
    "version": 3
   },
   "file_extension": ".py",
   "mimetype": "text/x-python",
   "name": "python",
   "nbconvert_exporter": "python",
   "pygments_lexer": "ipython3",
   "version": "3.9.7"
  }
 },
 "nbformat": 4,
 "nbformat_minor": 5
}

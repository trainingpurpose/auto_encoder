{
 "cells": [
  {
   "cell_type": "code",
   "execution_count": 5,
   "id": "6f0458df-1431-479f-8dd6-894f2efd94f4",
   "metadata": {
    "tags": []
   },
   "outputs": [],
   "source": [
    "import tensorflow as tf\n",
    "from matplotlib import pyplot as plt\n",
    "from train import Models\n",
    "\n",
    "data = tf.keras.datasets.mnist.load_data()\n",
    "a = Models.load_or_train(data=data)"
   ]
  },
  {
   "cell_type": "code",
   "execution_count": 6,
   "id": "1c3618ef-28b3-4cf0-98f9-a824c893864f",
   "metadata": {},
   "outputs": [
    {
     "data": {
      "text/plain": [
       "<matplotlib.image.AxesImage at 0x7f0b5c455250>"
      ]
     },
     "execution_count": 6,
     "metadata": {},
     "output_type": "execute_result"
    },
    {
     "data": {
      "image/png": "[encoded data removed]",
      "text/plain": [
       "<Figure size 432x288 with 1 Axes>"
      ]
     },
     "metadata": {
      "needs_background": "light"
     },
     "output_type": "display_data"
    }
   ],
   "source": [
    "sample = a.x_test[0]\n",
    "reshaped_sampe = a.x_test[0].reshape(-1,28,28)\n",
    "plt.imshow(a.x_test[0], cmap=\"gray\")"
   ]
  },
  {
   "cell_type": "code",
   "execution_count": 7,
   "id": "d914460f-ccf1-43f7-8825-b2ab14d1f0c4",
   "metadata": {},
   "outputs": [
    {
     "name": "stdout",
     "output_type": "stream",
     "text": [
      "WARNING:tensorflow:5 out of the last 6 calls to <function Model.make_predict_function.<locals>.predict_function at 0x7f0b5c1df1f0> triggered tf.function retracing. Tracing is expensive and the excessive number of tracings could be due to (1) creating @tf.function repeatedly in a loop, (2) passing tensors with different shapes, (3) passing Python objects instead of tensors. For (1), please define your @tf.function outside of the loop. For (2), @tf.function has experimental_relax_shapes=True option that relaxes argument shapes that can avoid unnecessary retracing. For (3), please refer to https://www.tensorflow.org/guide/function#controlling_retracing and https://www.tensorflow.org/api_docs/python/tf/function for  more details.\n",
      "WARNING:tensorflow:6 out of the last 8 calls to <function Model.make_predict_function.<locals>.predict_function at 0x7f0b5c1dff70> triggered tf.function retracing. Tracing is expensive and the excessive number of tracings could be due to (1) creating @tf.function repeatedly in a loop, (2) passing tensors with different shapes, (3) passing Python objects instead of tensors. For (1), please define your @tf.function outside of the loop. For (2), @tf.function has experimental_relax_shapes=True option that relaxes argument shapes that can avoid unnecessary retracing. For (3), please refer to https://www.tensorflow.org/guide/function#controlling_retracing and https://www.tensorflow.org/api_docs/python/tf/function for  more details.\n"
     ]
    }
   ],
   "source": [
    "autoencoder_prediction = a.encoder.predict(reshaped_sampe)\n",
    "ae_out = a.autoencoder.predict(reshaped_sampe)\n",
    "e_out = a.encoder.predict(reshaped_sampe)\n",
    "d_out = a.decoder.predict(e_out)\n"
   ]
  },
  {
   "cell_type": "code",
   "execution_count": 8,
   "id": "2ad626eb-5098-4712-a400-19135b5bbf22",
   "metadata": {
    "tags": []
   },
   "outputs": [
    {
     "data": {
      "image/png": "[encoded data removed]",
      "text/plain": [
       "<Figure size 720x504 with 4 Axes>"
      ]
     },
     "metadata": {
      "needs_background": "light"
     },
     "output_type": "display_data"
    }
   ],
   "source": [
    "fig = plt.figure(figsize=(10, 7))\n",
    "\n",
    "rows = 1\n",
    "columns = 4\n",
    "\n",
    "fig.add_subplot(rows, columns, 1)\n",
    "plt.imshow(sample, cmap=\"gray\")\n",
    "plt.axis(\"off\")\n",
    "plt.title(\"Original\")\n",
    "\n",
    "fig.add_subplot(rows, columns, 2)\n",
    "plt.imshow(e_out[0].reshape(8, 8), cmap=\"gray\")\n",
    "plt.axis(\"off\")\n",
    "plt.title(\"Encoded\")\n",
    "\n",
    "fig.add_subplot(rows, columns, 3)\n",
    "plt.imshow(d_out[0], cmap=\"gray\")\n",
    "plt.axis(\"off\")\n",
    "plt.title(\"Decoded\")\n",
    "\n",
    "fig.add_subplot(rows, columns, 4)\n",
    "plt.imshow(ae_out[0], cmap=\"gray\")\n",
    "plt.axis(\"off\")\n",
    "plt.title(\"AutoEncoded\")\n",
    "\n",
    "plt.show()"
   ]
  },
  {
   "cell_type": "code",
   "execution_count": null,
   "id": "5c07183f-1024-49de-8b5c-506318b94ea9",
   "metadata": {},
   "outputs": [],
   "source": []
  }
 ],
 "metadata": {
  "kernelspec": {
   "display_name": "Python 3 (ipykernel)",
   "language": "python",
   "name": "python3"
  },
  "language_info": {
   "codemirror_mode": {
    "name": "ipython",
    "version": 3
   },
   "file_extension": ".py",
   "mimetype": "text/x-python",
   "name": "python",
   "nbconvert_exporter": "python",
   "pygments_lexer": "ipython3",
   "version": "3.9.7"
  }
 },
 "nbformat": 4,
 "nbformat_minor": 5
}
